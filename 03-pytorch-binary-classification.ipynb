{
 "cells": [
  {
   "attachments": {},
   "cell_type": "markdown",
   "metadata": {},
   "source": [
    "# 03 Binary Classification with PyTorch\n",
    "\n",
    "GitHub repository: https://github.com/EzpieCo/PyTorch-Crash-Course\n",
    "\n",
    "Crash Course: https://ezpie.vercel.app/courses/machine-learning\n",
    "\n",
    "In case of an question: https://github.com/EzpieCo/PyTorch-Crash-Course/discussions\n",
    "\n",
    "---\n",
    "\n",
    "In Binary classification our main objective is to predict weather a given value is one thing or another, ex. is it spam or not spam? Is it a cat or a dog?"
   ]
  }
 ],
 "metadata": {
  "language_info": {
   "name": "python"
  },
  "orig_nbformat": 4
 },
 "nbformat": 4,
 "nbformat_minor": 2
}
