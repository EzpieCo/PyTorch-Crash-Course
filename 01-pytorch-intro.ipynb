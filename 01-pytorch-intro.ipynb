{
  "cells": [
    {
      "cell_type": "markdown",
      "metadata": {
        "id": "view-in-github",
        "colab_type": "text"
      },
      "source": [
        "<a href=\"https://colab.research.google.com/github/EzpieCo/PyTorch-Crash-Course/blob/main/01-pytorch-intro.ipynb\" target=\"_parent\"><img src=\"https://colab.research.google.com/assets/colab-badge.svg\" alt=\"Open In Colab\"/></a>"
      ]
    },
    {
      "cell_type": "markdown",
      "source": [
        "# 01 PyTorch Introduction\n",
        "\n",
        "GitHub repository: https://github.com/EzpieCo/PyTorch-Crash-Course\n",
        "\n",
        "Crash Course: https://ezpie.vercel.app/courses/machine-learning\n",
        "\n",
        "In case of an question: https://github.com/EzpieCo/PyTorch-Crash-Course/discussions"
      ],
      "metadata": {
        "id": "bazV0E2TQ2OF"
      }
    },
    {
      "cell_type": "markdown",
      "source": [
        "## Chapter: Getting started with PyTorch Code"
      ],
      "metadata": {
        "id": "EVUeevRPWftq"
      }
    },
    {
      "cell_type": "code",
      "source": [
        "#@title Notebooks are the same as a normal python file\n",
        "\n",
        "print(\"Hello Notebook\")"
      ],
      "metadata": {
        "cellView": "form",
        "id": "jgT2pazYQGPC",
        "outputId": "c30ee0c8-3e3f-4e88-e716-a1ecee447966",
        "colab": {
          "base_uri": "https://localhost:8080/"
        }
      },
      "execution_count": 2,
      "outputs": [
        {
          "output_type": "stream",
          "name": "stdout",
          "text": [
            "Hello Notebook\n"
          ]
        }
      ]
    },
    {
      "cell_type": "markdown",
      "source": [
        "### Changing your Runtime and check it\n",
        "\n",
        "To change your Runtime go to `Runtime` -> `change runtime type`\n",
        "\n",
        "Then change your runtime from none to GPU from the Hardware accelerator dropdown\n",
        "\n",
        "**NOTE** _since you would be using a free version of google colab you will have a GPU that won't be to fast, but you can pay for a paid version, for this course the free one will work fine too.\n",
        "._"
      ],
      "metadata": {
        "id": "pVX9VAMcOqy7"
      }
    },
    {
      "cell_type": "code",
      "execution_count": 3,
      "metadata": {
        "colab": {
          "base_uri": "https://localhost:8080/"
        },
        "cellView": "form",
        "id": "qPdpTsyND3nn",
        "outputId": "00f6944e-a6fb-4425-bc6d-500f753bf46b"
      },
      "outputs": [
        {
          "output_type": "stream",
          "name": "stdout",
          "text": [
            "/bin/bash: nvidia-smi: command not found\n"
          ]
        }
      ],
      "source": [
        "#@title checking runtime with the nvidia-smi\n",
        "\n",
        "\"\"\"\n",
        "NOTE: This will work only if you have your runtime as GPU\n",
        "Funny output right?\n",
        "\"\"\"\n",
        "\n",
        "!nvidia-smi"
      ]
    },
    {
      "cell_type": "markdown",
      "source": [
        "### Importing PyTorch\n",
        "\n",
        "In google colab all the modules are already installed so we don't need to use `pip` here. Just use the import statement to import pytorch: `import torch`"
      ],
      "metadata": {
        "id": "iQ5B9zC8U4FT"
      }
    },
    {
      "cell_type": "code",
      "source": [
        "import torch\n",
        "\n",
        "# Checking if pytorch is imported and what version it is\n",
        "# My current version is 2.0.1, for you it may differ if you're viewing this course from the future(wow you invented a time machine?)\n",
        "\n",
        "print(torch.__version__)"
      ],
      "metadata": {
        "id": "lVkXZJ8uU8Zg",
        "outputId": "6bb4de3a-0909-4a3f-bed6-3a0bcf27b275",
        "colab": {
          "base_uri": "https://localhost:8080/"
        }
      },
      "execution_count": 4,
      "outputs": [
        {
          "output_type": "stream",
          "name": "stdout",
          "text": [
            "2.0.1+cu118\n"
          ]
        }
      ]
    },
    {
      "cell_type": "markdown",
      "source": [
        "## Chapter: What and how to make Tensors\n",
        "\n",
        "Assume you have a toy box full of colorful bricks of all shapes and sizes. Each block is allocated a distinct value. You can now build a tower by stacking these bricks together. The tower can have numerous tiers, each of which has a collection of blocks stacked on top of one another.\n",
        "\n",
        "Consider each layer of the tower to be a dimension. Each block within a layer has its own position, which we can refer to as a coordinate. The coordinates pinpoint the exact location of the block within the tower.\n",
        "\n",
        "These block towers are known as tensors in machine learning. Tensors are just fancy words for multidimensional arrays. It's like a mystical container that, like our toy blocks, can hold a multitude of numbers. However, unlike blocks, the numbers in a tensor can represent anything you want, such as image pixel values, temperature readings, or even the possibility of a cat chasing a laser pointer.\n",
        "\n",
        "Assume we have a tensor that represents a colorful image. It might come in three sizes: width, height, and color channels. The width and height indicate the image's dimensions, while the color channels indicate how many colors are utilized to represent each pixel. Consider it a colorful edifice made up of thousands of tiny blocks, each representing a pixel in the image.\n",
        "\n",
        "Links to useful resources:\n",
        "\n",
        "video: https://www.youtube.com/watch?v=f5liqUk0ZTw (recommanded)\n",
        "\n",
        "blog: https://towardsdatascience.com/what-are-tensors-in-machine-learning-5671814646ff"
      ],
      "metadata": {
        "id": "DRnncPRTP_Kx"
      }
    },
    {
      "cell_type": "markdown",
      "source": [
        "### Creating tensors\n",
        "\n",
        "There are four type of tensors:\n",
        "1. Scalar\n",
        "2. Vector\n",
        "3. Matrix\n",
        "4. Tensor\n",
        "\n",
        "PyTorch tensors are created using the `torch.tensor` you can read about them at - https://pytorch.org/docs/stable/tensors.html"
      ],
      "metadata": {
        "id": "OXGtGr3fQ-6p"
      }
    },
    {
      "cell_type": "markdown",
      "source": [
        "#### Scalars\n",
        "\n",
        "Imagine you have a box filled with your favorite chocolate bars (I hate chocolate!). Even if every chocolate bar has a mouthwatering flavor, there is something unusual about them because they each have a different sweetness level. Imagine arranging all of these chocolate bars in a row and giving each one a number to indicate how sweet it is. These figures could be zero, positive, or even negative.\n",
        "\n",
        "A scalar is simply a single number, like one of those sweetness ratings. It doesn't have any direction or fancy dimensions. It's just a humble value that can be used to describe something, like the temperature outside, the age of a dinosaur, or the number of donuts in your belly after a wild breakfast adventure."
      ],
      "metadata": {
        "id": "CZadPmZrYIvU"
      }
    },
    {
      "cell_type": "code",
      "source": [
        "#@title Creating a scalar\n",
        "\n",
        "scalar = torch.tensor(4)\n",
        "scalar"
      ],
      "metadata": {
        "cellView": "form",
        "id": "nLOA2vURRTFz",
        "outputId": "071fd59a-040d-41aa-c0a4-22455fcee58a",
        "colab": {
          "base_uri": "https://localhost:8080/"
        }
      },
      "execution_count": 5,
      "outputs": [
        {
          "output_type": "execute_result",
          "data": {
            "text/plain": [
              "tensor(4)"
            ]
          },
          "metadata": {},
          "execution_count": 5
        }
      ]
    },
    {
      "cell_type": "code",
      "source": [
        "#@title checking what dimension it is\n",
        "scalar.ndim"
      ],
      "metadata": {
        "cellView": "form",
        "id": "wVAH9m-UV15-",
        "outputId": "ac94abf4-c1ac-44ec-cd56-87031b8eff45",
        "colab": {
          "base_uri": "https://localhost:8080/"
        }
      },
      "execution_count": 6,
      "outputs": [
        {
          "output_type": "execute_result",
          "data": {
            "text/plain": [
              "0"
            ]
          },
          "metadata": {},
          "execution_count": 6
        }
      ]
    },
    {
      "cell_type": "code",
      "source": [
        "#@title Checking why is the dimension is 0\n",
        "\n",
        "# We need to check what shape is of our scalar.\n",
        "scalar.shape"
      ],
      "metadata": {
        "cellView": "form",
        "id": "LlIJ4SxWWebo",
        "outputId": "69fa4943-4f2a-4398-e7d7-1fff9b7b98f6",
        "colab": {
          "base_uri": "https://localhost:8080/"
        }
      },
      "execution_count": 7,
      "outputs": [
        {
          "output_type": "execute_result",
          "data": {
            "text/plain": [
              "torch.Size([])"
            ]
          },
          "metadata": {},
          "execution_count": 7
        }
      ]
    },
    {
      "cell_type": "markdown",
      "source": [
        "#### Vectors\n",
        "\n",
        "Consider yourself a treasure hunter examining a huge treasure map. You have a reliable compass that informs you which way is north, south, east, and west to aid with your navigation. Consider each direction as a distinct arrow that has a particular length and is pointing in a single direction.\n",
        "\n",
        "A vector in mathematics resembles one of those arrows exactly. It has both direction and magnitude (length). It works like a magical compass, showing us where to go and how far to travel in a specific direction.\n",
        "\n",
        "However, the fact that vectors may represent a wide range of values and ideas is what makes them so fascinating. A vector, for instance, might depict a race car's speed, an object's force, or a spacecraft's motion across the cosmos.\n",
        "\n",
        "Consider a vector that represents the speed of a race car. The car's speed may be determined by the vector's magnitude, and its direction can be determined by its direction of travel, such as whether it is speeding north or east."
      ],
      "metadata": {
        "id": "wWTwCOZSYT7-"
      }
    },
    {
      "cell_type": "code",
      "source": [
        "#@title Creating a vector\n",
        "\n",
        "vector = torch.tensor([1, 2, 3])\n",
        "vector"
      ],
      "metadata": {
        "cellView": "form",
        "id": "LiKZNXExYagc",
        "outputId": "a740065b-9fbb-48b6-9c36-c29f3948a85c",
        "colab": {
          "base_uri": "https://localhost:8080/"
        }
      },
      "execution_count": 8,
      "outputs": [
        {
          "output_type": "execute_result",
          "data": {
            "text/plain": [
              "tensor([1, 2, 3])"
            ]
          },
          "metadata": {},
          "execution_count": 8
        }
      ]
    },
    {
      "cell_type": "code",
      "source": [
        "#@title checking what dimension\n",
        "vector.ndim"
      ],
      "metadata": {
        "cellView": "form",
        "id": "UKudJdIAYhco",
        "outputId": "dc819f58-ffdb-4fa8-b01c-6cb66fd7d15e",
        "colab": {
          "base_uri": "https://localhost:8080/"
        }
      },
      "execution_count": 9,
      "outputs": [
        {
          "output_type": "execute_result",
          "data": {
            "text/plain": [
              "1"
            ]
          },
          "metadata": {},
          "execution_count": 9
        }
      ]
    },
    {
      "cell_type": "code",
      "source": [
        "#@title checking why it's 1\n",
        "vector.shape"
      ],
      "metadata": {
        "cellView": "form",
        "id": "iMVs6IIdYwcD",
        "outputId": "2be9220f-398b-4b8d-a96d-478a8c735541",
        "colab": {
          "base_uri": "https://localhost:8080/"
        }
      },
      "execution_count": 10,
      "outputs": [
        {
          "output_type": "execute_result",
          "data": {
            "text/plain": [
              "torch.Size([3])"
            ]
          },
          "metadata": {},
          "execution_count": 10
        }
      ]
    },
    {
      "cell_type": "markdown",
      "source": [
        "#### Matrix\n",
        "\n",
        "picture yourself as a professional chef preparing a lavish feast. You have a magical kitchen notebook with pages and columns to keep track of all your recipes. Each page is a representation of a distinct dish, and each column is an ingredient. You should note the amount of each item required for the recipe at the intersection of each page and column.\n",
        "\n",
        "A matrix is analogous to your kitchen notebook in mathematics. It consists of a grid of integers set out in columns and rows. Each number in the matrix is referred to as an element and can stand in for whatever you’d like, including scores, temperatures, or even the quantity of sprinkles on a cupcake!\n"
      ],
      "metadata": {
        "id": "yY9X5LgUbJkj"
      }
    },
    {
      "cell_type": "code",
      "source": [
        "#@title Creating a matrix\n",
        "\n",
        "matrix = torch.tensor([[1, 2, 3],\n",
        "                      [4, 5, 6],\n",
        "                      [7, 8, 9]])\n",
        "\n",
        "matrix"
      ],
      "metadata": {
        "cellView": "form",
        "id": "yr5pCMntbQey",
        "outputId": "baf6029a-f248-46a0-a7de-9ad898db9cb8",
        "colab": {
          "base_uri": "https://localhost:8080/"
        }
      },
      "execution_count": 11,
      "outputs": [
        {
          "output_type": "execute_result",
          "data": {
            "text/plain": [
              "tensor([[1, 2, 3],\n",
              "        [4, 5, 6],\n",
              "        [7, 8, 9]])"
            ]
          },
          "metadata": {},
          "execution_count": 11
        }
      ]
    },
    {
      "cell_type": "code",
      "source": [
        "#@title what's the dimension\n",
        "\n",
        "matrix.ndim"
      ],
      "metadata": {
        "cellView": "form",
        "id": "ePEUPCUwbau_",
        "outputId": "cce2411f-1ac7-4194-dfd9-1f8a56520eb1",
        "colab": {
          "base_uri": "https://localhost:8080/"
        }
      },
      "execution_count": 12,
      "outputs": [
        {
          "output_type": "execute_result",
          "data": {
            "text/plain": [
              "2"
            ]
          },
          "metadata": {},
          "execution_count": 12
        }
      ]
    },
    {
      "cell_type": "code",
      "source": [
        "#@title why 2?\n",
        "\n",
        "matrix.shape"
      ],
      "metadata": {
        "cellView": "form",
        "id": "c81Hsbwubjg1",
        "outputId": "48e60d3f-c6d6-439b-ab3b-c2c4e676cddf",
        "colab": {
          "base_uri": "https://localhost:8080/"
        }
      },
      "execution_count": 13,
      "outputs": [
        {
          "output_type": "execute_result",
          "data": {
            "text/plain": [
              "torch.Size([3, 3])"
            ]
          },
          "metadata": {},
          "execution_count": 13
        }
      ]
    },
    {
      "cell_type": "markdown",
      "source": [
        "#### Tensor\n",
        "\n",
        "**_Already explained_**\n",
        "\n",
        "Assume you have a toy box full of colorful bricks of all shapes and sizes. Each block is allocated a distinct value. You can now build a tower by stacking these bricks together. The tower can have numerous tiers, each of which has a collection of blocks stacked on top of one another.\n",
        "\n",
        "Consider each layer of the tower to be a dimension. Each block within a layer has its own position, which we can refer to as a coordinate. The coordinates pinpoint the exact location of the block within the tower.\n",
        "\n",
        "These block towers are known as tensors in machine learning. Tensors are just fancy words for multidimensional arrays. It's like a mystical container that, like our toy blocks, can hold a multitude of numbers. However, unlike blocks, the numbers in a tensor can represent anything you want, such as image pixel values, temperature readings, or even the possibility of a cat chasing a laser pointer.\n",
        "\n",
        "Assume we have a tensor that represents a colorful image. It might come in three sizes: width, height, and color channels. The width and height indicate the image's dimensions, while the color channels indicate how many colors are utilized to represent each pixel. Consider it a colorful edifice made up of thousands of tiny blocks, each representing a pixel in the image."
      ],
      "metadata": {
        "id": "ZgpxK8xpbsxc"
      }
    },
    {
      "cell_type": "code",
      "source": [
        "#@title creating a tensor\n",
        "\n",
        "tensor = torch.tensor([[[1, 2, 3],\n",
        "                        [4, 5, 6],\n",
        "                        [7, 8, 9]]])\n",
        "\n",
        "tensor"
      ],
      "metadata": {
        "id": "MqXfOGRYhprx",
        "outputId": "3029d215-db3f-4235-9d8c-e8158eaac08d",
        "colab": {
          "base_uri": "https://localhost:8080/"
        },
        "cellView": "form"
      },
      "execution_count": 14,
      "outputs": [
        {
          "output_type": "execute_result",
          "data": {
            "text/plain": [
              "tensor([[[1, 2, 3],\n",
              "         [4, 5, 6],\n",
              "         [7, 8, 9]]])"
            ]
          },
          "metadata": {},
          "execution_count": 14
        }
      ]
    },
    {
      "cell_type": "code",
      "source": [
        "#@title what's the dimension\n",
        "tensor.ndim"
      ],
      "metadata": {
        "id": "sD78euThiFY3",
        "outputId": "2c383fe1-e995-4d10-ed82-d98380bbc895",
        "colab": {
          "base_uri": "https://localhost:8080/"
        },
        "cellView": "form"
      },
      "execution_count": 15,
      "outputs": [
        {
          "output_type": "execute_result",
          "data": {
            "text/plain": [
              "3"
            ]
          },
          "metadata": {},
          "execution_count": 15
        }
      ]
    },
    {
      "cell_type": "code",
      "source": [
        "#@title why is it 3?\n",
        "\n",
        "tensor.shape"
      ],
      "metadata": {
        "id": "bq5LnfckiKcn",
        "outputId": "2fa57e7d-078b-46ed-ead1-5964eb4faed7",
        "colab": {
          "base_uri": "https://localhost:8080/"
        },
        "cellView": "form"
      },
      "execution_count": 16,
      "outputs": [
        {
          "output_type": "execute_result",
          "data": {
            "text/plain": [
              "torch.Size([1, 3, 3])"
            ]
          },
          "metadata": {},
          "execution_count": 16
        }
      ]
    },
    {
      "cell_type": "markdown",
      "source": [
        "##### Why is it like this\n",
        "\n",
        "You see the tensor here is having a dimension of 1, 3, 3. Maybe you can explain why is it 3 in the last, cause the `3` arrays have 3 values.\n",
        "\n",
        "And if you guessed it right, yes the 3 arrays themselves are the 3 dimension in the second place, but why 1 in the first? you see we have an extra square bracket in it, that's what is being count as the 1 dimension!\n",
        "\n",
        "You can view the image in the github repository for [better understanding](https://github.com/ezpieco/pytorch-crash-course/images/tensor-dimension.png)"
      ],
      "metadata": {
        "id": "eWiAzIVFiRwO"
      }
    },
    {
      "cell_type": "markdown",
      "source": [
        "## Chapter: Reshape, Squeezing and Unsqueezing\n",
        "\n",
        "What do they mean?\n",
        "\n",
        "* Reshape - Reshapes the input tensor to the defined tensor\n",
        "* Squeezing - removing all the `1` dimensions from the given tensor\n",
        "* Unsqueezing - adding `1` dimension to the given tensor"
      ],
      "metadata": {
        "id": "n6TeTmaLoA-V"
      }
    },
    {
      "cell_type": "code",
      "source": [
        "#@title creating a tensor for trying out\n",
        "\n",
        "x = torch.arange(1, 10)\n",
        "\n",
        "x, x.shape"
      ],
      "metadata": {
        "id": "2ghyWKroo1E6",
        "outputId": "9f3c3be2-ad5a-4124-d58b-4c0c016f403e",
        "colab": {
          "base_uri": "https://localhost:8080/"
        }
      },
      "execution_count": 17,
      "outputs": [
        {
          "output_type": "execute_result",
          "data": {
            "text/plain": [
              "(tensor([1, 2, 3, 4, 5, 6, 7, 8, 9]), torch.Size([9]))"
            ]
          },
          "metadata": {},
          "execution_count": 17
        }
      ]
    },
    {
      "cell_type": "markdown",
      "source": [
        "### Reshape\n",
        "\n",
        "Consider having a big box packed with vibrant blocks. A number is represented by each block. Let's imagine you want to arrange these blocks in creative patterns using a variety of shapes and sizes. Machine learning reshaping is similar to arranging these blocks to create new shapes without altering the numbers that are written on the blocks.\n",
        "\n",
        "These are the main reasons why you should even consider reshaping:\n",
        "\n",
        "1. **Input compatibility:** Let's say you have a machine learning algorithm that takes in images of different fruits and tries to classify them. But the algorithm expects the images to have a specific size, like 64 pixels by 64 pixels. However, your fruit images are of various sizes. Reshaping allows you to resize these images, like stretching or squeezing, so that they all become the same size. This way, you can feed them into the algorithm without any issues.\n",
        "\n",
        "2. **Data manipulation:** Imagine you have a long list of numbers in a single row, like [1, 2, 3, 4, 5, 6]. But you want to analyze the numbers in a table format, with rows and columns. Reshaping helps you transform this list into a table-like structure, like [[1, 2], [3, 4], [5, 6]]. Now you have rows and columns, and you can perform various calculations or operations more easily.\n",
        "\n",
        "3. **Model architecture:** Let's say you're building a model to recognize handwritten digits. To process the images effectively, you need to reshape the input data. Think of the images as jigsaw puzzles. Each puzzle piece represents a pixel, and the final image is made up of all these pieces. Reshaping here involves arranging the puzzle pieces in the right order and making sure they fit together properly. By reshaping the image into a 2D grid, you're allowing the model to analyze and understand the pixel patterns better.\n",
        "\n",
        "4. **Error handling:** Imagine you're using a pre-trained model that expects input images to have three color channels (red, green, and blue). However, the image you want to use has only one color channel (grayscale). Reshaping comes to the rescue! You can reshape the image to add the missing color channel dimension, making it compatible with the model's requirements. It's like putting on a pair of magical glasses that can see colors where there were none before!"
      ],
      "metadata": {
        "id": "sqHjCw6GofX3"
      }
    },
    {
      "cell_type": "code",
      "source": [
        "# Reshaping the tensor(1D) to a 1 X 6 dimension\n",
        "\n",
        "reshaped = x.reshape(1, 6) # Reshape into a 1 X 6 dimension\n",
        "\n",
        "reshaped # Output: error!"
      ],
      "metadata": {
        "id": "7JJaPH-_p5Ns",
        "outputId": "0d08b038-5261-4b70-edf4-bf5bf648463d",
        "colab": {
          "base_uri": "https://localhost:8080/",
          "height": 235
        }
      },
      "execution_count": 19,
      "outputs": [
        {
          "output_type": "error",
          "ename": "RuntimeError",
          "evalue": "ignored",
          "traceback": [
            "\u001b[0;31m---------------------------------------------------------------------------\u001b[0m",
            "\u001b[0;31mRuntimeError\u001b[0m                              Traceback (most recent call last)",
            "\u001b[0;32m<ipython-input-19-c4743996fb54>\u001b[0m in \u001b[0;36m<cell line: 3>\u001b[0;34m()\u001b[0m\n\u001b[1;32m      1\u001b[0m \u001b[0;31m# Reshaping the tensor(1D) to a 1 X 6 dimension\u001b[0m\u001b[0;34m\u001b[0m\u001b[0;34m\u001b[0m\u001b[0m\n\u001b[1;32m      2\u001b[0m \u001b[0;34m\u001b[0m\u001b[0m\n\u001b[0;32m----> 3\u001b[0;31m \u001b[0mreshaped\u001b[0m \u001b[0;34m=\u001b[0m \u001b[0mx\u001b[0m\u001b[0;34m.\u001b[0m\u001b[0mreshape\u001b[0m\u001b[0;34m(\u001b[0m\u001b[0;36m1\u001b[0m\u001b[0;34m,\u001b[0m \u001b[0;36m6\u001b[0m\u001b[0;34m)\u001b[0m \u001b[0;31m# Reshape into a 1 X 6 dimension\u001b[0m\u001b[0;34m\u001b[0m\u001b[0;34m\u001b[0m\u001b[0m\n\u001b[0m\u001b[1;32m      4\u001b[0m \u001b[0;34m\u001b[0m\u001b[0m\n\u001b[1;32m      5\u001b[0m \u001b[0mreshaped\u001b[0m \u001b[0;31m# Output: error!\u001b[0m\u001b[0;34m\u001b[0m\u001b[0;34m\u001b[0m\u001b[0m\n",
            "\u001b[0;31mRuntimeError\u001b[0m: shape '[1, 6]' is invalid for input of size 9"
          ]
        }
      ]
    },
    {
      "cell_type": "markdown",
      "source": [
        "#### Why we got that error\n",
        "\n",
        "you see our tensor(x) has a shape of 9, cause it's from 1 to 9(index order starting from 0). Now if we see it totally makes sence that we can't convert a 9 value tensor into a 6 value tensor, cause then we will be left with 3 values not in that tensor"
      ],
      "metadata": {
        "id": "1Gk7LtyLqUjv"
      }
    },
    {
      "cell_type": "code",
      "source": [
        "#@title perfect matches\n",
        "\n",
        "\"\"\"\n",
        "Now that we now why it's happening lets see at numbers that multiple to 9, factors of 9 if we say in maths.\n",
        "so that factors can be 1X9, 3X3 and 9X1.\n",
        "Let's put them in code\n",
        "\"\"\"\n",
        "\n",
        "first_combo = x.reshape(1, 9) # 1 X 9 gives 9\n",
        "print(f'First combo: {first_combo}')\n",
        "\n",
        "second_combo = x.reshape(3, 3) # 3 X 3 gives 9\n",
        "print(f'Second combo: {second_combo}')\n",
        "\n",
        "third_combo = x.reshape(9, 1) # 9 X 1 gives 9\n",
        "print(f'Third combo: {third_combo}')"
      ],
      "metadata": {
        "cellView": "form",
        "id": "wYozCjTIq7bU",
        "outputId": "6ffabf06-bf09-42ca-919d-1310ef5e3fe6",
        "colab": {
          "base_uri": "https://localhost:8080/"
        }
      },
      "execution_count": 20,
      "outputs": [
        {
          "output_type": "stream",
          "name": "stdout",
          "text": [
            "First combo: tensor([[1, 2, 3, 4, 5, 6, 7, 8, 9]])\n",
            "Second combo: tensor([[1, 2, 3],\n",
            "        [4, 5, 6],\n",
            "        [7, 8, 9]])\n",
            "Third combo: tensor([[1],\n",
            "        [2],\n",
            "        [3],\n",
            "        [4],\n",
            "        [5],\n",
            "        [6],\n",
            "        [7],\n",
            "        [8],\n",
            "        [9]])\n"
          ]
        }
      ]
    },
    {
      "cell_type": "markdown",
      "source": [
        "### Squeezing\n",
        "\n",
        "Imagine you have a playful bunch of inflatable toys, each representing a tensor. These toys come in different shapes and sizes, but they all have one thing in common: they can expand and contract like balloons. Now, squeezing in machine learning is a bit like manipulating these inflatable toys to make them smaller in certain dimensions, just like squeezing the air out of a balloon!\n",
        "\n",
        "In machine learning, squeezing refers to the process of removing dimensions with a size of 1 from a tensor. It's like compressing or squishing the tensor to make it more compact, without losing any valuable information. Squeezing is particularly useful when dealing with tensors that have unnecessary or redundant dimensions.\n",
        "\n",
        "Here are a few scenarios where squeezing comes into play:\n",
        "\n",
        "1. **Dimension reduction:** Let's say you have a tensor that represents the probabilities of different classes for a classification task. If the tensor has a shape of (1, 10, 1), it means there's only one sample, ten classes, and one prediction per class. In this case, squeezing can be applied to remove the redundant dimensions, resulting in a tensor with shape (10). Now you have a simple 1D tensor representing the probabilities for each class, without unnecessary dimensions.\n",
        "\n",
        "2. **Model output:** Squeezing is often used to simplify the output of a model. For example, in natural language processing tasks, you may have a language model that generates sequences of words. The model may output sequences with shape (1, T, 1), where T is the length of the generated sequence. By squeezing the tensor along the first and third dimensions, you can obtain a more concise representation of the generated sequence with shape (T)."
      ],
      "metadata": {
        "id": "dp5aIiWvvM6q"
      }
    },
    {
      "cell_type": "code",
      "source": [
        "#@title checking the shape of first_combo tensor\n",
        "\n",
        "first_combo.shape"
      ],
      "metadata": {
        "cellView": "form",
        "id": "K1-SQgDGxqml",
        "outputId": "c6bcb9e8-63a2-4499-a41d-bbff9ff53d2d",
        "colab": {
          "base_uri": "https://localhost:8080/"
        }
      },
      "execution_count": 21,
      "outputs": [
        {
          "output_type": "execute_result",
          "data": {
            "text/plain": [
              "torch.Size([1, 9])"
            ]
          },
          "metadata": {},
          "execution_count": 21
        }
      ]
    },
    {
      "cell_type": "code",
      "source": [
        "#@title squeezing the dimension\n",
        "\n",
        "first_combo.squeeze(), first_combo.squeeze().shape "
      ],
      "metadata": {
        "cellView": "form",
        "id": "D577i6D9yal-",
        "outputId": "a11fd669-6116-4c86-92ca-14508202741e",
        "colab": {
          "base_uri": "https://localhost:8080/"
        }
      },
      "execution_count": 22,
      "outputs": [
        {
          "output_type": "execute_result",
          "data": {
            "text/plain": [
              "(tensor([1, 2, 3, 4, 5, 6, 7, 8, 9]), torch.Size([9]))"
            ]
          },
          "metadata": {},
          "execution_count": 22
        }
      ]
    },
    {
      "cell_type": "markdown",
      "source": [
        "## Chapter: PyTorch and Numpy\n",
        "\n",
        "NumPy stands for \"Numerical Python,\" and it's a popular library in the Python programming language. It provides a set of tools and functions that make it easier to work with numerical data in an efficient and convenient way.\n",
        "\n",
        "With NumPy, you can create and manipulate arrays, which are like containers that hold numbers. These arrays can have one dimension (like a vector), two dimensions (like a matrix), or even more dimensions. Arrays in NumPy are particularly useful because they allow you to perform operations on multiple numbers at once, saving you time and effort.\n",
        "\n",
        "For example, let's say you have a dataset containing the heights of a group of people. You can use NumPy to create an array that holds all those heights. Then, you can easily perform operations on that array, like calculating the average height, finding the tallest person, or even doing more complex mathematical computations.\n",
        "\n",
        "And because of this PyTorch has features just to work with numpy arrays\n",
        "\n",
        "* `starting point as numpy array` -> `needed as pytorch tensor` - use `torch.from_numpy(ndarray)`"
      ],
      "metadata": {
        "id": "ETtnhsMYKl-R"
      }
    },
    {
      "cell_type": "code",
      "source": [
        "#@title convert numpy array into pytorch tensor\n",
        "\n",
        "# import numpy\n",
        "import numpy as np # Most common way of calling numpy\n",
        "\n",
        "# simple numpy array\n",
        "arr = np.arange(1., 10.)\n",
        "tensor = torch.from_numpy(arr) # Danger: when converting numpy array to torch tensor, use type() and set data type to torch.float32\n",
        "\n",
        "arr, tensor"
      ],
      "metadata": {
        "id": "sCUDKWT9L4hh",
        "outputId": "e81850bc-1a36-47ee-9098-99ad14057111",
        "colab": {
          "base_uri": "https://localhost:8080/"
        }
      },
      "execution_count": 23,
      "outputs": [
        {
          "output_type": "execute_result",
          "data": {
            "text/plain": [
              "(array([1., 2., 3., 4., 5., 6., 7., 8., 9.]),\n",
              " tensor([1., 2., 3., 4., 5., 6., 7., 8., 9.], dtype=torch.float64))"
            ]
          },
          "metadata": {},
          "execution_count": 23
        }
      ]
    },
    {
      "cell_type": "code",
      "source": [
        "#@title strange problem\n",
        "\n",
        "\"\"\"\n",
        "As you can see the data type of the tensor is float64, but if you check pytorch documentation\n",
        "you will find out that the default and pytorch's favorate type is float32. Now we have a problem\n",
        "cause if the type is different then we might ran into errors. But the first question is why is it float64?\n",
        "\"\"\"\n",
        "\n",
        "# Default numpy data type\n",
        "print(f\"numpy default type: {arr.dtype}\") # it's float64\n",
        "\n",
        "# in order to convert data type use type()\n",
        "# tensor = torch.from_numpy(arr).type(torch.float32)\n",
        "\n",
        "tensor = torch.from_numpy(arr).type(torch.float32)\n",
        "tensor, tensor.dtype"
      ],
      "metadata": {
        "id": "gFs6IKsMM4Mx",
        "outputId": "78ee3e36-b3fd-4e65-cf95-209d963c714b",
        "colab": {
          "base_uri": "https://localhost:8080/"
        }
      },
      "execution_count": 24,
      "outputs": [
        {
          "output_type": "stream",
          "name": "stdout",
          "text": [
            "numpy default type: float64\n"
          ]
        },
        {
          "output_type": "execute_result",
          "data": {
            "text/plain": [
              "(tensor([1., 2., 3., 4., 5., 6., 7., 8., 9.]), torch.float32)"
            ]
          },
          "metadata": {},
          "execution_count": 24
        }
      ]
    },
    {
      "cell_type": "code",
      "source": [
        "#@title converting tensor into numpy array\n",
        "\n",
        "tensor = torch.arange(1., 10.)\n",
        "arr = tensor.numpy()\n",
        "\n",
        "tensor, arr"
      ],
      "metadata": {
        "id": "MnQ33_c2PC1x",
        "outputId": "f5c6d3be-27e0-4800-d75f-587c5548d904",
        "colab": {
          "base_uri": "https://localhost:8080/"
        }
      },
      "execution_count": 34,
      "outputs": [
        {
          "output_type": "execute_result",
          "data": {
            "text/plain": [
              "(tensor([1., 2., 3., 4., 5., 6., 7., 8., 9.]),\n",
              " array([1., 2., 3., 4., 5., 6., 7., 8., 9.], dtype=float32))"
            ]
          },
          "metadata": {},
          "execution_count": 34
        }
      ]
    }
  ],
  "metadata": {
    "language_info": {
      "name": "python"
    },
    "orig_nbformat": 4,
    "colab": {
      "provenance": [],
      "gpuType": "T4",
      "include_colab_link": true
    },
    "kernelspec": {
      "name": "python3",
      "display_name": "Python 3"
    }
  },
  "nbformat": 4,
  "nbformat_minor": 0
}