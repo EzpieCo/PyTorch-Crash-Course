{
  "cells": [
    {
      "cell_type": "markdown",
      "metadata": {
        "id": "view-in-github",
        "colab_type": "text"
      },
      "source": [
        "<a href=\"https://colab.research.google.com/github/EzpieCo/PyTorch-Crash-Course/blob/main/01-pytorch-intro.ipynb\" target=\"_parent\"><img src=\"https://colab.research.google.com/assets/colab-badge.svg\" alt=\"Open In Colab\"/></a>"
      ]
    },
    {
      "cell_type": "markdown",
      "source": [
        "# 01 PyTorch Introduction\n",
        "\n",
        "GitHub repository: https://github.com/EzpieCo/PyTorch-Crash-Course\n",
        "\n",
        "Crash Course: https://ezpie.vercel.app/courses/machine-learning\n",
        "\n",
        "In case of an question: https://github.com/EzpieCo/PyTorch-Crash-Course/discussions"
      ],
      "metadata": {
        "id": "bazV0E2TQ2OF"
      }
    },
    {
      "cell_type": "markdown",
      "source": [
        "## Chapter: Getting started with PyTorch Code"
      ],
      "metadata": {
        "id": "EVUeevRPWftq"
      }
    },
    {
      "cell_type": "code",
      "source": [
        "#@title Notebooks are the same as a normal python file\n",
        "\n",
        "print(\"Hello Notebook\")"
      ],
      "metadata": {
        "cellView": "form",
        "id": "jgT2pazYQGPC",
        "outputId": "bf5bfbe2-4b79-461c-b48a-ba1d01b0f774",
        "colab": {
          "base_uri": "https://localhost:8080/"
        }
      },
      "execution_count": 3,
      "outputs": [
        {
          "output_type": "stream",
          "name": "stdout",
          "text": [
            "Hello Notebook\n"
          ]
        }
      ]
    },
    {
      "cell_type": "markdown",
      "source": [
        "### Changing your Runtime and check it\n",
        "\n",
        "To change your Runtime go to `Runtime` -> `change runtime type`\n",
        "\n",
        "Then change your runtime from none to GPU from the Hardware accelerator dropdown\n",
        "\n",
        "**NOTE** _since you would be using a free version of google colab you will have a GPU that won't be to fast, but you can pay for a paid version, for this course the free one will work fine too.\n",
        "._"
      ],
      "metadata": {
        "id": "pVX9VAMcOqy7"
      }
    },
    {
      "cell_type": "code",
      "execution_count": 2,
      "metadata": {
        "colab": {
          "base_uri": "https://localhost:8080/"
        },
        "cellView": "form",
        "id": "qPdpTsyND3nn",
        "outputId": "c2430212-e333-4397-90dd-48d55af4d1a8"
      },
      "outputs": [
        {
          "output_type": "stream",
          "name": "stdout",
          "text": [
            "Fri Jun  2 08:33:16 2023       \n",
            "+-----------------------------------------------------------------------------+\n",
            "| NVIDIA-SMI 525.85.12    Driver Version: 525.85.12    CUDA Version: 12.0     |\n",
            "|-------------------------------+----------------------+----------------------+\n",
            "| GPU  Name        Persistence-M| Bus-Id        Disp.A | Volatile Uncorr. ECC |\n",
            "| Fan  Temp  Perf  Pwr:Usage/Cap|         Memory-Usage | GPU-Util  Compute M. |\n",
            "|                               |                      |               MIG M. |\n",
            "|===============================+======================+======================|\n",
            "|   0  Tesla T4            Off  | 00000000:00:04.0 Off |                    0 |\n",
            "| N/A   43C    P8     9W /  70W |      0MiB / 15360MiB |      0%      Default |\n",
            "|                               |                      |                  N/A |\n",
            "+-------------------------------+----------------------+----------------------+\n",
            "                                                                               \n",
            "+-----------------------------------------------------------------------------+\n",
            "| Processes:                                                                  |\n",
            "|  GPU   GI   CI        PID   Type   Process name                  GPU Memory |\n",
            "|        ID   ID                                                   Usage      |\n",
            "|=============================================================================|\n",
            "|  No running processes found                                                 |\n",
            "+-----------------------------------------------------------------------------+\n"
          ]
        }
      ],
      "source": [
        "#@title checking runtime with the nvidia-smi\n",
        "\n",
        "\"\"\"\n",
        "NOTE: This will work only if you have your runtime as GPU\n",
        "Funny output right?\n",
        "\"\"\"\n",
        "\n",
        "!nvidia-smi"
      ]
    },
    {
      "cell_type": "markdown",
      "source": [
        "### Importing PyTorch\n",
        "\n",
        "In google colab all the modules are already installed so we don't need to use `pip` here. Just use the import statement to import pytorch: `import torch`"
      ],
      "metadata": {
        "id": "iQ5B9zC8U4FT"
      }
    },
    {
      "cell_type": "code",
      "source": [
        "import torch\n",
        "\n",
        "# Checking if pytorch is imported and what version it is\n",
        "# My current version is 2.0.1, for you it may differ if you're viewing this course from the future(wow you invented a time machine?)\n",
        "\n",
        "print(torch.__version__)"
      ],
      "metadata": {
        "id": "lVkXZJ8uU8Zg",
        "outputId": "c0d6236f-dd30-42fa-bc07-64caca314f78",
        "colab": {
          "base_uri": "https://localhost:8080/"
        }
      },
      "execution_count": 2,
      "outputs": [
        {
          "output_type": "stream",
          "name": "stdout",
          "text": [
            "2.0.1+cu118\n"
          ]
        }
      ]
    }
  ],
  "metadata": {
    "language_info": {
      "name": "python"
    },
    "orig_nbformat": 4,
    "colab": {
      "provenance": [],
      "toc_visible": true,
      "gpuType": "T4",
      "include_colab_link": true
    },
    "kernelspec": {
      "name": "python3",
      "display_name": "Python 3"
    }
  },
  "nbformat": 4,
  "nbformat_minor": 0
}