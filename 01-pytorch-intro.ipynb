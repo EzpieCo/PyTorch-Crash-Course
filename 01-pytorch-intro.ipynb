{
  "cells": [
    {
      "cell_type": "markdown",
      "metadata": {
        "id": "view-in-github",
        "colab_type": "text"
      },
      "source": [
        "<a href=\"https://colab.research.google.com/github/EzpieCo/PyTorch-Crash-Course/blob/main/01-pytorch-intro.ipynb\" target=\"_parent\"><img src=\"https://colab.research.google.com/assets/colab-badge.svg\" alt=\"Open In Colab\"/></a>"
      ]
    },
    {
      "cell_type": "markdown",
      "source": [
        "# 01 PyTorch Introduction\n",
        "\n",
        "GitHub repository: https://github.com/EzpieCo/PyTorch-Crash-Course\n",
        "\n",
        "Crash Course: https://ezpie.vercel.app/courses/machine-learning\n",
        "\n",
        "In case of an question: https://github.com/EzpieCo/PyTorch-Crash-Course/discussions"
      ],
      "metadata": {
        "id": "bazV0E2TQ2OF"
      }
    },
    {
      "cell_type": "markdown",
      "source": [
        "## Chapter: Getting started with PyTorch Code"
      ],
      "metadata": {
        "id": "EVUeevRPWftq"
      }
    },
    {
      "cell_type": "code",
      "source": [
        "#@title Notebooks are the same as a normal python file\n",
        "\n",
        "print(\"Hello Notebook\")"
      ],
      "metadata": {
        "cellView": "form",
        "id": "jgT2pazYQGPC",
        "outputId": "af4d6c35-1b0f-4145-a2b4-8c3c1ed86920",
        "colab": {
          "base_uri": "https://localhost:8080/"
        }
      },
      "execution_count": 2,
      "outputs": [
        {
          "output_type": "stream",
          "name": "stdout",
          "text": [
            "Hello Notebook\n"
          ]
        }
      ]
    },
    {
      "cell_type": "markdown",
      "source": [
        "### Changing your Runtime and check it\n",
        "\n",
        "To change your Runtime go to `Runtime` -> `change runtime type`\n",
        "\n",
        "Then change your runtime from none to GPU from the Hardware accelerator dropdown\n",
        "\n",
        "**NOTE** _since you would be using a free version of google colab you will have a GPU that won't be to fast, but you can pay for a paid version, for this course the free one will work fine too.\n",
        "._"
      ],
      "metadata": {
        "id": "pVX9VAMcOqy7"
      }
    },
    {
      "cell_type": "code",
      "execution_count": 3,
      "metadata": {
        "colab": {
          "base_uri": "https://localhost:8080/"
        },
        "cellView": "form",
        "id": "qPdpTsyND3nn",
        "outputId": "5daac174-2852-489a-ebc1-6bd921224b5a"
      },
      "outputs": [
        {
          "output_type": "stream",
          "name": "stdout",
          "text": [
            "/bin/bash: nvidia-smi: command not found\n"
          ]
        }
      ],
      "source": [
        "#@title checking runtime with the nvidia-smi\n",
        "\n",
        "\"\"\"\n",
        "NOTE: This will work only if you have your runtime as GPU\n",
        "Funny output right?\n",
        "\"\"\"\n",
        "\n",
        "!nvidia-smi"
      ]
    },
    {
      "cell_type": "markdown",
      "source": [
        "### Importing PyTorch\n",
        "\n",
        "In google colab all the modules are already installed so we don't need to use `pip` here. Just use the import statement to import pytorch: `import torch`"
      ],
      "metadata": {
        "id": "iQ5B9zC8U4FT"
      }
    },
    {
      "cell_type": "code",
      "source": [
        "import torch\n",
        "\n",
        "# Checking if pytorch is imported and what version it is\n",
        "# My current version is 2.0.1, for you it may differ if you're viewing this course from the future(wow you invented a time machine?)\n",
        "\n",
        "print(torch.__version__)"
      ],
      "metadata": {
        "id": "lVkXZJ8uU8Zg",
        "outputId": "a4616e62-e1de-4f4e-e369-4231a7a82bc9",
        "colab": {
          "base_uri": "https://localhost:8080/"
        }
      },
      "execution_count": 4,
      "outputs": [
        {
          "output_type": "stream",
          "name": "stdout",
          "text": [
            "2.0.1+cu118\n"
          ]
        }
      ]
    },
    {
      "cell_type": "markdown",
      "source": [
        "## Chapter: What and how to make Tensors\n",
        "\n",
        "Assume you have a toy box full of colorful bricks of all shapes and sizes. Each block is allocated a distinct value. You can now build a tower by stacking these bricks together. The tower can have numerous tiers, each of which has a collection of blocks stacked on top of one another.\n",
        "\n",
        "Consider each layer of the tower to be a dimension. Each block within a layer has its own position, which we can refer to as a coordinate. The coordinates pinpoint the exact location of the block within the tower.\n",
        "\n",
        "These block towers are known as tensors in machine learning. Tensors are just fancy words for multidimensional arrays. It's like a mystical container that, like our toy blocks, can hold a multitude of numbers. However, unlike blocks, the numbers in a tensor can represent anything you want, such as image pixel values, temperature readings, or even the possibility of a cat chasing a laser pointer.\n",
        "\n",
        "Assume we have a tensor that represents a colorful image. It might come in three sizes: width, height, and color channels. The width and height indicate the image's dimensions, while the color channels indicate how many colors are utilized to represent each pixel. Consider it a colorful edifice made up of thousands of tiny blocks, each representing a pixel in the image.\n",
        "\n",
        "Links to useful resources:\n",
        "\n",
        "video: https://www.youtube.com/watch?v=f5liqUk0ZTw (recommanded)\n",
        "\n",
        "blog: https://towardsdatascience.com/what-are-tensors-in-machine-learning-5671814646ff"
      ],
      "metadata": {
        "id": "DRnncPRTP_Kx"
      }
    },
    {
      "cell_type": "markdown",
      "source": [
        "### Creating tensors\n",
        "\n",
        "There are four type of tensors:\n",
        "1. Scalar\n",
        "2. Vector\n",
        "3. Matrix\n",
        "4. Tensor\n",
        "\n",
        "PyTorch tensors are created using the `torch.tensor` you can read about them at - https://pytorch.org/docs/stable/tensors.html"
      ],
      "metadata": {
        "id": "OXGtGr3fQ-6p"
      }
    },
    {
      "cell_type": "markdown",
      "source": [
        "#### Scalars\n",
        "\n",
        "Imagine you have a box filled with your favorite chocolate bars (I hate chocolate!). Even if every chocolate bar has a mouthwatering flavor, there is something unusual about them because they each have a different sweetness level. Imagine arranging all of these chocolate bars in a row and giving each one a number to indicate how sweet it is. These figures could be zero, positive, or even negative.\n",
        "\n",
        "A scalar is simply a single number, like one of those sweetness ratings. It doesn't have any direction or fancy dimensions. It's just a humble value that can be used to describe something, like the temperature outside, the age of a dinosaur, or the number of donuts in your belly after a wild breakfast adventure."
      ],
      "metadata": {
        "id": "CZadPmZrYIvU"
      }
    },
    {
      "cell_type": "code",
      "source": [
        "#@title Creating a scalar\n",
        "\n",
        "scalar = torch.tensor(4)\n",
        "scalar"
      ],
      "metadata": {
        "cellView": "form",
        "id": "nLOA2vURRTFz",
        "outputId": "7b1f7ea9-cad0-4264-fb53-2db4c259a8d0",
        "colab": {
          "base_uri": "https://localhost:8080/"
        }
      },
      "execution_count": 5,
      "outputs": [
        {
          "output_type": "execute_result",
          "data": {
            "text/plain": [
              "tensor(4)"
            ]
          },
          "metadata": {},
          "execution_count": 5
        }
      ]
    },
    {
      "cell_type": "code",
      "source": [
        "#@title checking what dimension it is\n",
        "scalar.ndim"
      ],
      "metadata": {
        "cellView": "form",
        "id": "wVAH9m-UV15-",
        "outputId": "7ee8fbf0-b7e1-4649-a7de-7da74dd5115a",
        "colab": {
          "base_uri": "https://localhost:8080/"
        }
      },
      "execution_count": 6,
      "outputs": [
        {
          "output_type": "execute_result",
          "data": {
            "text/plain": [
              "0"
            ]
          },
          "metadata": {},
          "execution_count": 6
        }
      ]
    },
    {
      "cell_type": "code",
      "source": [
        "#@title Checking why is the dimension is 0\n",
        "\n",
        "# We need to check what shape is of our scalar.\n",
        "scalar.shape"
      ],
      "metadata": {
        "cellView": "form",
        "id": "LlIJ4SxWWebo",
        "outputId": "48d9cb0c-0116-43a1-9761-8028a17afb8a",
        "colab": {
          "base_uri": "https://localhost:8080/"
        }
      },
      "execution_count": 7,
      "outputs": [
        {
          "output_type": "execute_result",
          "data": {
            "text/plain": [
              "torch.Size([])"
            ]
          },
          "metadata": {},
          "execution_count": 7
        }
      ]
    },
    {
      "cell_type": "markdown",
      "source": [
        "#### Vectors\n",
        "\n",
        "Consider yourself a treasure hunter examining a huge treasure map. You have a reliable compass that informs you which way is north, south, east, and west to aid with your navigation. Consider each direction as a distinct arrow that has a particular length and is pointing in a single direction.\n",
        "\n",
        "A vector in mathematics resembles one of those arrows exactly. It has both direction and magnitude (length). It works like a magical compass, showing us where to go and how far to travel in a specific direction.\n",
        "\n",
        "However, the fact that vectors may represent a wide range of values and ideas is what makes them so fascinating. A vector, for instance, might depict a race car's speed, an object's force, or a spacecraft's motion across the cosmos.\n",
        "\n",
        "Consider a vector that represents the speed of a race car. The car's speed may be determined by the vector's magnitude, and its direction can be determined by its direction of travel, such as whether it is speeding north or east."
      ],
      "metadata": {
        "id": "wWTwCOZSYT7-"
      }
    },
    {
      "cell_type": "code",
      "source": [
        "#@title Creating a vector\n",
        "\n",
        "vector = torch.tensor([1, 2, 3])\n",
        "vector"
      ],
      "metadata": {
        "cellView": "form",
        "id": "LiKZNXExYagc",
        "outputId": "6cf43d28-d6e8-4555-9bd7-369cc5529988",
        "colab": {
          "base_uri": "https://localhost:8080/"
        }
      },
      "execution_count": 8,
      "outputs": [
        {
          "output_type": "execute_result",
          "data": {
            "text/plain": [
              "tensor([1, 2, 3])"
            ]
          },
          "metadata": {},
          "execution_count": 8
        }
      ]
    },
    {
      "cell_type": "code",
      "source": [
        "#@title checking what dimension\n",
        "vector.ndim"
      ],
      "metadata": {
        "cellView": "form",
        "id": "UKudJdIAYhco",
        "outputId": "127b8d20-7e09-41b5-db6f-66a54505aad2",
        "colab": {
          "base_uri": "https://localhost:8080/"
        }
      },
      "execution_count": 9,
      "outputs": [
        {
          "output_type": "execute_result",
          "data": {
            "text/plain": [
              "1"
            ]
          },
          "metadata": {},
          "execution_count": 9
        }
      ]
    },
    {
      "cell_type": "code",
      "source": [
        "#@title checking why it's 1\n",
        "vector.shape"
      ],
      "metadata": {
        "cellView": "form",
        "id": "iMVs6IIdYwcD",
        "outputId": "2cfe3fb1-07b2-4f88-8464-04f02453119d",
        "colab": {
          "base_uri": "https://localhost:8080/"
        }
      },
      "execution_count": 10,
      "outputs": [
        {
          "output_type": "execute_result",
          "data": {
            "text/plain": [
              "torch.Size([3])"
            ]
          },
          "metadata": {},
          "execution_count": 10
        }
      ]
    },
    {
      "cell_type": "markdown",
      "source": [
        "#### Matrix\n",
        "\n",
        "picture yourself as a professional chef preparing a lavish feast. You have a magical kitchen notebook with pages and columns to keep track of all your recipes. Each page is a representation of a distinct dish, and each column is an ingredient. You should note the amount of each item required for the recipe at the intersection of each page and column.\n",
        "\n",
        "A matrix is analogous to your kitchen notebook in mathematics. It consists of a grid of integers set out in columns and rows. Each number in the matrix is referred to as an element and can stand in for whatever you’d like, including scores, temperatures, or even the quantity of sprinkles on a cupcake!\n"
      ],
      "metadata": {
        "id": "yY9X5LgUbJkj"
      }
    },
    {
      "cell_type": "code",
      "source": [
        "#@title Creating a matrix\n",
        "\n",
        "matrix = torch.tensor([[1, 2, 3],\n",
        "                      [4, 5, 6],\n",
        "                      [7, 8, 9]])\n",
        "\n",
        "matrix"
      ],
      "metadata": {
        "cellView": "form",
        "id": "yr5pCMntbQey",
        "outputId": "7afcb1d4-054a-4ebd-f242-2316e735595e",
        "colab": {
          "base_uri": "https://localhost:8080/"
        }
      },
      "execution_count": 12,
      "outputs": [
        {
          "output_type": "execute_result",
          "data": {
            "text/plain": [
              "tensor([[1, 2, 3],\n",
              "        [4, 5, 6],\n",
              "        [7, 8, 9]])"
            ]
          },
          "metadata": {},
          "execution_count": 12
        }
      ]
    },
    {
      "cell_type": "code",
      "source": [
        "#@title what's the dimension\n",
        "\n",
        "matrix.ndim"
      ],
      "metadata": {
        "cellView": "form",
        "id": "ePEUPCUwbau_",
        "outputId": "2b412dba-d40a-4a85-d2c8-1b69028cb825",
        "colab": {
          "base_uri": "https://localhost:8080/"
        }
      },
      "execution_count": 13,
      "outputs": [
        {
          "output_type": "execute_result",
          "data": {
            "text/plain": [
              "2"
            ]
          },
          "metadata": {},
          "execution_count": 13
        }
      ]
    },
    {
      "cell_type": "code",
      "source": [
        "#@title why 2?\n",
        "\n",
        "matrix.shape"
      ],
      "metadata": {
        "cellView": "form",
        "id": "c81Hsbwubjg1",
        "outputId": "587b9adf-85d4-46d0-bd4b-dc5ec336b899",
        "colab": {
          "base_uri": "https://localhost:8080/"
        }
      },
      "execution_count": 15,
      "outputs": [
        {
          "output_type": "execute_result",
          "data": {
            "text/plain": [
              "torch.Size([3, 3])"
            ]
          },
          "metadata": {},
          "execution_count": 15
        }
      ]
    },
    {
      "cell_type": "markdown",
      "source": [
        "#### Tensor\n",
        "\n",
        "**_Already explained_**\n",
        "\n",
        "Assume you have a toy box full of colorful bricks of all shapes and sizes. Each block is allocated a distinct value. You can now build a tower by stacking these bricks together. The tower can have numerous tiers, each of which has a collection of blocks stacked on top of one another.\n",
        "\n",
        "Consider each layer of the tower to be a dimension. Each block within a layer has its own position, which we can refer to as a coordinate. The coordinates pinpoint the exact location of the block within the tower.\n",
        "\n",
        "These block towers are known as tensors in machine learning. Tensors are just fancy words for multidimensional arrays. It's like a mystical container that, like our toy blocks, can hold a multitude of numbers. However, unlike blocks, the numbers in a tensor can represent anything you want, such as image pixel values, temperature readings, or even the possibility of a cat chasing a laser pointer.\n",
        "\n",
        "Assume we have a tensor that represents a colorful image. It might come in three sizes: width, height, and color channels. The width and height indicate the image's dimensions, while the color channels indicate how many colors are utilized to represent each pixel. Consider it a colorful edifice made up of thousands of tiny blocks, each representing a pixel in the image."
      ],
      "metadata": {
        "id": "ZgpxK8xpbsxc"
      }
    },
    {
      "cell_type": "code",
      "source": [
        "#@title creating a tensor\n",
        "\n",
        "tensor = torch.tensor([[[1, 2, 3],\n",
        "                        [4, 5, 6],\n",
        "                        [7, 8, 9]]])\n",
        "\n",
        "tensor"
      ],
      "metadata": {
        "id": "MqXfOGRYhprx",
        "outputId": "a1841afc-f6e6-45c9-db17-8b48c54b64f1",
        "colab": {
          "base_uri": "https://localhost:8080/"
        }
      },
      "execution_count": 16,
      "outputs": [
        {
          "output_type": "execute_result",
          "data": {
            "text/plain": [
              "tensor([[[1, 2, 3],\n",
              "         [4, 5, 6],\n",
              "         [7, 8, 9]]])"
            ]
          },
          "metadata": {},
          "execution_count": 16
        }
      ]
    },
    {
      "cell_type": "code",
      "source": [
        "#@title what's the dimension\n",
        "tensor.ndim"
      ],
      "metadata": {
        "id": "sD78euThiFY3",
        "outputId": "e49fb17a-790b-4f58-d53b-d3d5b1eff545",
        "colab": {
          "base_uri": "https://localhost:8080/"
        }
      },
      "execution_count": 17,
      "outputs": [
        {
          "output_type": "execute_result",
          "data": {
            "text/plain": [
              "3"
            ]
          },
          "metadata": {},
          "execution_count": 17
        }
      ]
    },
    {
      "cell_type": "code",
      "source": [
        "#@title why is it 3?\n",
        "\n",
        "tensor.shape"
      ],
      "metadata": {
        "id": "bq5LnfckiKcn",
        "outputId": "2cdda998-a2f5-4a56-e755-a821b73c5747",
        "colab": {
          "base_uri": "https://localhost:8080/"
        }
      },
      "execution_count": 18,
      "outputs": [
        {
          "output_type": "execute_result",
          "data": {
            "text/plain": [
              "torch.Size([1, 3, 3])"
            ]
          },
          "metadata": {},
          "execution_count": 18
        }
      ]
    },
    {
      "cell_type": "markdown",
      "source": [
        "##### Why is it like this\n",
        "\n",
        "You see the tensor here is having a dimension of 1, 3, 3. Maybe you can explain why is it 3 in the last, cause the `3` arrays have 3 values.\n",
        "\n",
        "And if you guessed it right, yes the 3 arrays themselves are the 3 dimension in the second place, but why 1 in the first? you see we have an extra square bracket in it, that's what is being count as the 1 dimension!\n",
        "\n",
        "You can view the image in the github repository for [better understanding](https://github.com/ezpieco/pytorch-crash-course/images/tensor-dimension.png)"
      ],
      "metadata": {
        "id": "eWiAzIVFiRwO"
      }
    }
  ],
  "metadata": {
    "language_info": {
      "name": "python"
    },
    "orig_nbformat": 4,
    "colab": {
      "provenance": [],
      "gpuType": "T4",
      "include_colab_link": true
    },
    "kernelspec": {
      "name": "python3",
      "display_name": "Python 3"
    }
  },
  "nbformat": 4,
  "nbformat_minor": 0
}