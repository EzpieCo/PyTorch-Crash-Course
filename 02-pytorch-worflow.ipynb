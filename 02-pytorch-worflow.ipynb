{
 "cells": [
  {
   "attachments": {},
   "cell_type": "markdown",
   "metadata": {},
   "source": [
    "<a href=\"https://colab.research.google.com/github/EzpieCo/PyTorch-Crash-Course/blob/main/02-pytorch-workflow.ipynb\" target=\"_parent\"><img src=\"https://colab.research.google.com/assets/colab-badge.svg\" alt=\"Open In Colab\"/></a>"
   ]
  },
  {
   "attachments": {},
   "cell_type": "markdown",
   "metadata": {},
   "source": [
    "# 02 PyTorch Workflow\n",
    "\n",
    "Every machine learning engineer or deep learning engineer has one essence, that is to take data, build\n",
    "a model(neural network) to understand patterns in that data and predict what the value will be of an unseen data.\n",
    "\n",
    "From the next chapter onward we will focus more on the fun part, that is making data, building a model to understand that data and predict with data.\n",
    "\n",
    "To Start of **straight** and simple we will learn how to make a model that can predict values in a straight line, a simple straight line.\n",
    "\n",
    "We will build a pytorch model that will learn the pattern in that straight line and make predictions.\n",
    "\n",
    "# The simple workflow\n",
    "\n",
    "We will cover a really, yet a very common workflow, with the help of which we will create our model.\n",
    "\n",
    "![most common pytorch workflow](images/pytorch-workflow.svg)"
   ]
  },
  {
   "cell_type": "code",
   "execution_count": null,
   "metadata": {},
   "outputs": [],
   "source": []
  }
 ],
 "metadata": {
  "language_info": {
   "name": "python"
  },
  "orig_nbformat": 4
 },
 "nbformat": 4,
 "nbformat_minor": 2
}
