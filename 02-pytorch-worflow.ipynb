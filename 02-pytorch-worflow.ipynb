{
  "cells": [
    {
      "cell_type": "markdown",
      "metadata": {
        "id": "view-in-github",
        "colab_type": "text"
      },
      "source": [
        "<a href=\"https://colab.research.google.com/github/EzpieCo/PyTorch-Crash-Course/blob/main/02-pytorch-worflow.ipynb\" target=\"_parent\"><img src=\"https://colab.research.google.com/assets/colab-badge.svg\" alt=\"Open In Colab\"/></a>"
      ]
    },
    {
      "cell_type": "markdown",
      "metadata": {
        "id": "mE3LmKjS8MOg"
      },
      "source": [
        "# 02 PyTorch Workflow\n",
        "\n",
        "GitHub repository: https://github.com/EzpieCo/PyTorch-Crash-Course\n",
        "\n",
        "Crash Course: https://ezpie.vercel.app/courses/machine-learning\n",
        "\n",
        "In case of an question: https://github.com/EzpieCo/PyTorch-Crash-Course/discussions\n",
        "\n",
        "---\n",
        "\n",
        "Every machine learning engineer or deep learning engineer has one essence, that is to take data, build\n",
        "a model(neural network) to understand patterns in that data and predict what the value will be of an unseen data.\n",
        "\n",
        "From the next chapter onward we will focus more on the fun part, that is making data, building a model to understand that data and predict with data.\n",
        "\n",
        "To Start of **straight** and simple we will learn how to make a model that can predict values in a straight line, a simple straight line.\n",
        "\n",
        "We will build a pytorch model that will learn the pattern in that straight line and make predictions.\n",
        "\n",
        "# The simple workflow\n",
        "\n",
        "We will cover a really, yet a very common workflow, with the help of which we will create our model.\n",
        "\n",
        "![most common pytorch workflow](https://github.com/EzpieCo/PyTorch-Crash-Course/blob/main/images/pytorch-workflow.svg?raw=1)"
      ]
    },
    {
      "cell_type": "markdown",
      "source": [
        "## Chapter: Preparing data and loading data\n",
        "\n",
        "Data refers to the information that we use to train, validate, and test our machine learning models. It serves as the foundation for making predictions, gaining insights, and solving real-world problems using machine learning techniques.\n",
        "\n",
        "Data can come in various forms, such as structured, unstructured, or semi-structured. Structured data is organized and follows a predefined format, typically stored in databases or tabular formats like CSV files. Unstructured data, on the other hand, lacks a specific structure and can include text, images, audio, video, or free-form documents. Semi-structured data lies in between, having some organization but not conforming strictly to a predefined schema.\n",
        "\n",
        "Hence data an be anything\n",
        "\n",
        "- Audio\n",
        "- Video\n",
        "- Text\n",
        "- Image\n",
        "\n",
        "Machine learning is all about:\n",
        "\n",
        "- Getting data and turning it into numarical values\n",
        "- Building a model that can learn patterns in that data\n",
        "\n",
        "For this we will create a linear regression model aka model that will predict values in a stright line."
      ],
      "metadata": {
        "id": "d4dE_lkV8MOh"
      }
    },
    {
      "cell_type": "code",
      "source": [
        "# importing dependencies\n",
        "import torch\n",
        "from torch import nn # nn, short for neural network, is the main building block of neural networks.\n",
        "import matplotlib.pyplot as plt\n",
        "\n",
        "# Checking pytorch version\n",
        "\n",
        "torch.__version__ # version 2.0.1 above will work fine"
      ],
      "metadata": {
        "colab": {
          "base_uri": "https://localhost:8080/",
          "height": 36
        },
        "id": "0EPjWkxo-qd-",
        "outputId": "dd60be20-c368-4228-9bae-bbec8dc32fc4"
      },
      "execution_count": 1,
      "outputs": [
        {
          "output_type": "execute_result",
          "data": {
            "text/plain": [
              "'2.0.1+cu118'"
            ],
            "application/vnd.google.colaboratory.intrinsic+json": {
              "type": "string"
            }
          },
          "metadata": {},
          "execution_count": 1
        }
      ]
    },
    {
      "cell_type": "markdown",
      "source": [
        "### Creating the values"
      ],
      "metadata": {
        "id": "2n5GKxqCAVWA"
      }
    },
    {
      "cell_type": "code",
      "source": [
        "# Creating weight and bais\n",
        "weight = 0.5 # Can be anything, but line will differ\n",
        "bais = 0.2 # same with the bais\n",
        "\n",
        "# Creating the features and labels\n",
        "X = torch.arange(0, 1, 0.02).unsqueeze(1) # remove all the 1 dimensions\n",
        "\n",
        "# linear regression formula: y = b + wx ... wx*n* (number of times) \n",
        "y = bais + (weight * X)"
      ],
      "metadata": {
        "id": "WOVrt3mB-Bx5"
      },
      "execution_count": 9,
      "outputs": []
    },
    {
      "cell_type": "code",
      "source": [
        "#@title Getting to know our data\n",
        "\n",
        "# getting the first 10 values\n",
        "print(f\"first ten features: {X[:10]}\")\n",
        "print(f\"first ten labels: {y[:10]}\")\n",
        "\n",
        "# checking lenght of features and labels\n",
        "print(f\"number of features: {len(X)}\")\n",
        "print(f\"number of labels: {len(y)}\")\n",
        "\n",
        "# Checking the shape of our data\n",
        "print(f\"shape of features: {X.shape}\")\n",
        "print(f\"shape of labels: {y.shape}\")"
      ],
      "metadata": {
        "colab": {
          "base_uri": "https://localhost:8080/"
        },
        "id": "EIgXeLWzAzOf",
        "outputId": "6e1ea850-9d83-457a-a3db-1bfe2e529817"
      },
      "execution_count": 22,
      "outputs": [
        {
          "output_type": "stream",
          "name": "stdout",
          "text": [
            "first ten features: tensor([[0.0000],\n",
            "        [0.0200],\n",
            "        [0.0400],\n",
            "        [0.0600],\n",
            "        [0.0800],\n",
            "        [0.1000],\n",
            "        [0.1200],\n",
            "        [0.1400],\n",
            "        [0.1600],\n",
            "        [0.1800]])\n",
            "first ten labels: tensor([[0.2000],\n",
            "        [0.2100],\n",
            "        [0.2200],\n",
            "        [0.2300],\n",
            "        [0.2400],\n",
            "        [0.2500],\n",
            "        [0.2600],\n",
            "        [0.2700],\n",
            "        [0.2800],\n",
            "        [0.2900]])\n",
            "number of features: 50\n",
            "number of labels: 50\n",
            "shape of features: torch.Size([50, 1])\n",
            "shape of labels: torch.Size([50, 1])\n"
          ]
        }
      ]
    },
    {
      "cell_type": "markdown",
      "source": [
        "### Spliting the values in training and testing sets\n",
        "\n",
        "We will split data into training and testing sets, which are the most common, validation set can be made, but for this small data not required.\n",
        "\n",
        "We will use the python's [sklearn](https://scikit-learn.org/stable/modules/generated/sklearn.model_selection.train_test_split.html) for this."
      ],
      "metadata": {
        "id": "452oBp4TAQ2Q"
      }
    },
    {
      "cell_type": "code",
      "source": [
        "# import train_test_split from sklearn\n",
        "from sklearn.model_selection import train_test_split\n",
        "\n",
        "X_train, X_test, y_train, y_test = train_test_split(X, \n",
        "                                                    y,\n",
        "                                                    test_size=0.2, # 0.2/20% of data will be for testing and 80% will be for training\n",
        "                                                    random_state=46) # changes the testing data, but stays same if value same"
      ],
      "metadata": {
        "id": "QgQJJN_zAgrk"
      },
      "execution_count": 18,
      "outputs": []
    },
    {
      "cell_type": "markdown",
      "source": [
        "### Creating a plot function to plot our data\n",
        "\n",
        "First rule of machine learning is 'Visulize your data'\n",
        "\n",
        "Visulize the data first, so that you know what will suit the best."
      ],
      "metadata": {
        "id": "9H8oDMmEC1zj"
      }
    },
    {
      "cell_type": "code",
      "source": [
        "# Ploting function\n",
        "def plot(train_data=X_train, train_labels=y_train, \n",
        "                     test_data=X_test, test_labels=y_test, \n",
        "                     predictions=None):\n",
        "  \n",
        "  plt.figure(figsize=(10, 7))\n",
        "\n",
        "  # training data in green\n",
        "  plt.scatter(train_data, train_labels, c=\"g\", s=4, label=\"Training data\")\n",
        "  \n",
        "  # test data in red\n",
        "  plt.scatter(test_data, test_labels, c=\"r\", s=4, label=\"Test data\")\n",
        "\n",
        "  if predictions != None:\n",
        "    # Plot the predictions in blue\n",
        "    plt.scatter(test_data, predictions, c=\"b\", s=4, label=\"Predictions\")\n",
        "\n",
        "  # Show the legend\n",
        "  plt.legend(prop={\"size\": 14})"
      ],
      "metadata": {
        "id": "rBAQ8uuUDaA0"
      },
      "execution_count": 19,
      "outputs": []
    },
    {
      "cell_type": "code",
      "source": [
        "plot() # Checking out our data"
      ],
      "metadata": {
        "colab": {
          "base_uri": "https://localhost:8080/",
          "height": 599
        },
        "id": "px9gVu26D_QU",
        "outputId": "6c8f1065-343c-4b89-becd-aff9a1066cc2"
      },
      "execution_count": 20,
      "outputs": [
        {
          "output_type": "display_data",
          "data": {
            "text/plain": [
              "<Figure size 1000x700 with 1 Axes>"
            ],
            "image/png": "[encoded data removed]"
          },
          "metadata": {}
        }
      ]
    },
    {
      "cell_type": "code",
      "source": [],
      "metadata": {
        "id": "5s7sEqXxELCh"
      },
      "execution_count": null,
      "outputs": []
    }
  ],
  "metadata": {
    "language_info": {
      "name": "python"
    },
    "orig_nbformat": 4,
    "colab": {
      "provenance": [],
      "include_colab_link": true
    },
    "kernelspec": {
      "name": "python3",
      "display_name": "Python 3"
    }
  },
  "nbformat": 4,
  "nbformat_minor": 0
}